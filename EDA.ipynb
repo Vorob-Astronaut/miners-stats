{
 "cells": [
  {
   "cell_type": "code",
   "execution_count": 1,
   "metadata": {},
   "outputs": [],
   "source": [
    "import pandas as pd"
   ]
  },
  {
   "cell_type": "code",
   "execution_count": 2,
   "metadata": {},
   "outputs": [],
   "source": [
    "import matplotlib.pyplot as plt\n",
    "import numpy as np"
   ]
  },
  {
   "cell_type": "code",
   "execution_count": 3,
   "metadata": {},
   "outputs": [],
   "source": [
    "DAYS_INDEX = 425"
   ]
  },
  {
   "cell_type": "code",
   "execution_count": 4,
   "metadata": {},
   "outputs": [],
   "source": [
    "data = pd.read_csv('./data.csv', index_col=0)\n",
    "normalized_data = data[data['paid_total'] > 0.1]\n"
   ]
  },
  {
   "cell_type": "code",
   "execution_count": 5,
   "metadata": {
    "scrolled": false
   },
   "outputs": [],
   "source": [
    "normalized_power = []\n",
    "for power in normalized_data['power']:\n",
    "    mesure = power.split()[-1]\n",
    "    amount = float(power.split()[0])\n",
    "    if mesure == 'Mh/s':\n",
    "        normalized_power.append(amount)\n",
    "    elif mesure == 'Gh/s':\n",
    "        normalized_power.append(amount * 1000)\n",
    "    elif mesure == 'h/s':\n",
    "        normalized_power.append(amount * 0)\n",
    "    else:\n",
    "        print(mesure)\n",
    "\n",
    "normalized_data = normalized_data.assign(power_in_mh=normalized_power)"
   ]
  },
  {
   "cell_type": "code",
   "execution_count": 6,
   "metadata": {},
   "outputs": [],
   "source": [
    "days_of_mining = normalized_data['paid_total'] * normalized_data['power_in_mh'] / DAYS_INDEX\n",
    "normalized_data['days'] = days_of_mining\n",
    "# REMOVE noize\n",
    "normalized_data = normalized_data[normalized_data['days'] < 2000]"
   ]
  },
  {
   "cell_type": "code",
   "execution_count": 7,
   "metadata": {},
   "outputs": [
    {
     "data": {
      "text/plain": [
       "paid_total       16.4681\n",
       "power          2.14 Gh/s\n",
       "power_in_mh         2140\n",
       "days             82.9215\n",
       "Name: 0xcae89dec6b173b03e09d76030d016f37b9404a04, dtype: object"
      ]
     },
     "execution_count": 7,
     "metadata": {},
     "output_type": "execute_result"
    }
   ],
   "source": [
    "normalized_data.loc['0xcae89dec6b173b03e09d76030d016f37b9404a04', :]"
   ]
  },
  {
   "cell_type": "code",
   "execution_count": 8,
   "metadata": {},
   "outputs": [
    {
     "data": {
      "text/html": [
       "<div>\n",
       "<style scoped>\n",
       "    .dataframe tbody tr th:only-of-type {\n",
       "        vertical-align: middle;\n",
       "    }\n",
       "\n",
       "    .dataframe tbody tr th {\n",
       "        vertical-align: top;\n",
       "    }\n",
       "\n",
       "    .dataframe thead th {\n",
       "        text-align: right;\n",
       "    }\n",
       "</style>\n",
       "<table border=\"1\" class=\"dataframe\">\n",
       "  <thead>\n",
       "    <tr style=\"text-align: right;\">\n",
       "      <th></th>\n",
       "      <th>paid_total</th>\n",
       "      <th>power_in_mh</th>\n",
       "      <th>days</th>\n",
       "    </tr>\n",
       "  </thead>\n",
       "  <tbody>\n",
       "    <tr>\n",
       "      <th>count</th>\n",
       "      <td>980.000000</td>\n",
       "      <td>980.000000</td>\n",
       "      <td>980.000000</td>\n",
       "    </tr>\n",
       "    <tr>\n",
       "      <th>mean</th>\n",
       "      <td>7.326946</td>\n",
       "      <td>443.920898</td>\n",
       "      <td>20.452553</td>\n",
       "    </tr>\n",
       "    <tr>\n",
       "      <th>std</th>\n",
       "      <td>18.160035</td>\n",
       "      <td>1307.395224</td>\n",
       "      <td>102.632353</td>\n",
       "    </tr>\n",
       "    <tr>\n",
       "      <th>min</th>\n",
       "      <td>0.100020</td>\n",
       "      <td>0.000000</td>\n",
       "      <td>0.000000</td>\n",
       "    </tr>\n",
       "    <tr>\n",
       "      <th>25%</th>\n",
       "      <td>1.129428</td>\n",
       "      <td>100.330000</td>\n",
       "      <td>0.305333</td>\n",
       "    </tr>\n",
       "    <tr>\n",
       "      <th>50%</th>\n",
       "      <td>3.061465</td>\n",
       "      <td>191.110000</td>\n",
       "      <td>1.207672</td>\n",
       "    </tr>\n",
       "    <tr>\n",
       "      <th>75%</th>\n",
       "      <td>6.683632</td>\n",
       "      <td>388.195000</td>\n",
       "      <td>5.052517</td>\n",
       "    </tr>\n",
       "    <tr>\n",
       "      <th>max</th>\n",
       "      <td>356.431510</td>\n",
       "      <td>28460.000000</td>\n",
       "      <td>1678.692003</td>\n",
       "    </tr>\n",
       "  </tbody>\n",
       "</table>\n",
       "</div>"
      ],
      "text/plain": [
       "       paid_total   power_in_mh         days\n",
       "count  980.000000    980.000000   980.000000\n",
       "mean     7.326946    443.920898    20.452553\n",
       "std     18.160035   1307.395224   102.632353\n",
       "min      0.100020      0.000000     0.000000\n",
       "25%      1.129428    100.330000     0.305333\n",
       "50%      3.061465    191.110000     1.207672\n",
       "75%      6.683632    388.195000     5.052517\n",
       "max    356.431510  28460.000000  1678.692003"
      ]
     },
     "execution_count": 8,
     "metadata": {},
     "output_type": "execute_result"
    }
   ],
   "source": [
    "normalized_data.describe()"
   ]
  },
  {
   "cell_type": "code",
   "execution_count": 9,
   "metadata": {},
   "outputs": [
    {
     "data": {
      "text/html": [
       "<div>\n",
       "<style scoped>\n",
       "    .dataframe tbody tr th:only-of-type {\n",
       "        vertical-align: middle;\n",
       "    }\n",
       "\n",
       "    .dataframe tbody tr th {\n",
       "        vertical-align: top;\n",
       "    }\n",
       "\n",
       "    .dataframe thead th {\n",
       "        text-align: right;\n",
       "    }\n",
       "</style>\n",
       "<table border=\"1\" class=\"dataframe\">\n",
       "  <thead>\n",
       "    <tr style=\"text-align: right;\">\n",
       "      <th></th>\n",
       "      <th>paid_total</th>\n",
       "    </tr>\n",
       "  </thead>\n",
       "  <tbody>\n",
       "    <tr>\n",
       "      <th>count</th>\n",
       "      <td>1445.000000</td>\n",
       "    </tr>\n",
       "    <tr>\n",
       "      <th>mean</th>\n",
       "      <td>5.522390</td>\n",
       "    </tr>\n",
       "    <tr>\n",
       "      <th>std</th>\n",
       "      <td>21.421479</td>\n",
       "    </tr>\n",
       "    <tr>\n",
       "      <th>min</th>\n",
       "      <td>0.000000</td>\n",
       "    </tr>\n",
       "    <tr>\n",
       "      <th>25%</th>\n",
       "      <td>0.000000</td>\n",
       "    </tr>\n",
       "    <tr>\n",
       "      <th>50%</th>\n",
       "      <td>1.209320</td>\n",
       "    </tr>\n",
       "    <tr>\n",
       "      <th>75%</th>\n",
       "      <td>4.584030</td>\n",
       "    </tr>\n",
       "    <tr>\n",
       "      <th>max</th>\n",
       "      <td>478.563290</td>\n",
       "    </tr>\n",
       "  </tbody>\n",
       "</table>\n",
       "</div>"
      ],
      "text/plain": [
       "        paid_total\n",
       "count  1445.000000\n",
       "mean      5.522390\n",
       "std      21.421479\n",
       "min       0.000000\n",
       "25%       0.000000\n",
       "50%       1.209320\n",
       "75%       4.584030\n",
       "max     478.563290"
      ]
     },
     "execution_count": 9,
     "metadata": {},
     "output_type": "execute_result"
    }
   ],
   "source": [
    "data.describe()\n",
    "\n",
    "# RAW REAL DATA"
   ]
  },
  {
   "cell_type": "code",
   "execution_count": 10,
   "metadata": {},
   "outputs": [
    {
     "data": {
      "image/png": "[encoded data removed]",
      "text/plain": [
       "<Figure size 432x288 with 1 Axes>"
      ]
     },
     "metadata": {
      "needs_background": "light"
     },
     "output_type": "display_data"
    }
   ],
   "source": [
    "bins = np.arange(0, 100, 1)\n",
    "plt.title('Paid total')\n",
    "plt.hist(data['paid_total'], bins=bins)\n",
    "plt.xlabel('Amount in ETH')\n",
    "plt.ylabel('Count of miners')\n",
    "plt.ylim([0, 100])\n",
    "plt.grid()\n",
    "\n",
    "plt.show()"
   ]
  },
  {
   "cell_type": "code",
   "execution_count": 11,
   "metadata": {},
   "outputs": [
    {
     "data": {
      "image/png": "[encoded data removed]",
      "text/plain": [
       "<Figure size 432x288 with 1 Axes>"
      ]
     },
     "metadata": {
      "needs_background": "light"
     },
     "output_type": "display_data"
    }
   ],
   "source": [
    "plt.boxplot(data['paid_total'], vert=False, autorange=False)\n",
    "plt.title('Paid total')\n",
    "plt.xlabel('Amount in ETH')\n",
    "plt.xlim([0, 200])\n",
    "plt.show()"
   ]
  },
  {
   "cell_type": "code",
   "execution_count": 12,
   "metadata": {},
   "outputs": [
    {
     "data": {
      "image/png": "[encoded data removed]",
      "text/plain": [
       "<Figure size 432x288 with 1 Axes>"
      ]
     },
     "metadata": {
      "needs_background": "light"
     },
     "output_type": "display_data"
    }
   ],
   "source": [
    "bins = np.arange(0, 2000, 1)\n",
    "plt.title('Power')\n",
    "plt.hist(normalized_data['power_in_mh'], bins=bins, histtype='step')\n",
    "plt.xlabel('power Mh/s')\n",
    "plt.ylabel('Count of miners')\n",
    "plt.grid()\n",
    "\n",
    "plt.show()"
   ]
  },
  {
   "cell_type": "code",
   "execution_count": 13,
   "metadata": {},
   "outputs": [
    {
     "data": {
      "image/png": "[encoded data removed]",
      "text/plain": [
       "<Figure size 432x288 with 1 Axes>"
      ]
     },
     "metadata": {
      "needs_background": "light"
     },
     "output_type": "display_data"
    }
   ],
   "source": [
    "bins = np.arange(0, 200, 1)\n",
    "plt.title('Lifetime')\n",
    "plt.hist(normalized_data['days'], bins=bins, histtype='stepfilled')\n",
    "plt.ylim([0, 100])\n",
    "plt.xlabel('days')\n",
    "plt.ylabel('Count of miners')\n",
    "plt.grid()\n",
    "\n",
    "plt.show()"
   ]
  },
  {
   "cell_type": "code",
   "execution_count": 14,
   "metadata": {},
   "outputs": [
    {
     "data": {
      "image/png": "[encoded data removed]",
      "text/plain": [
       "<Figure size 432x288 with 1 Axes>"
      ]
     },
     "metadata": {
      "needs_background": "light"
     },
     "output_type": "display_data"
    }
   ],
   "source": [
    "bins = np.arange(0, 300, 1)\n",
    "plt.title('Lifetime zoomed')\n",
    "plt.hist(normalized_data[normalized_data.days > 20]['days'] , bins=bins, histtype='stepfilled')\n",
    "plt.xlabel('days')\n",
    "plt.ylabel('Count of miners')\n",
    "plt.grid()\n",
    "\n",
    "plt.show()"
   ]
  }
 ],
 "metadata": {
  "kernelspec": {
   "display_name": "Python 3",
   "language": "python",
   "name": "python3"
  },
  "language_info": {
   "codemirror_mode": {
    "name": "ipython",
    "version": 3
   },
   "file_extension": ".py",
   "mimetype": "text/x-python",
   "name": "python",
   "nbconvert_exporter": "python",
   "pygments_lexer": "ipython3",
   "version": "3.7.3"
  }
 },
 "nbformat": 4,
 "nbformat_minor": 2
}
